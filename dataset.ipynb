{
 "cells": [
  {
   "cell_type": "code",
   "execution_count": null,
   "metadata": {},
   "outputs": [
    {
     "name": "stdout",
     "output_type": "stream",
     "text": [
      "Training\n",
      "Training\\glioma_tumor\n",
      "Training\\meningioma_tumor\n",
      "Training\\no_tumor\n",
      "Training\\pituitary_tumor\n",
      "Testing\n",
      "Testing\\glioma_tumor\n",
      "Testing\\meningioma_tumor\n",
      "Testing\\no_tumor\n",
      "Testing\\pituitary_tumor\n"
     ]
    }
   ],
   "source": [
    "import os\n",
    "\n",
    "# Create a directory called Training\n",
    "# os.mkdir(\"glioma_tumor\")\n",
    "# os.mkdir(\"meningioma_tumor\")\n",
    "# os.mkdir(\"no_tumor\")\n",
    "# os.mkdir(\"pituitary_tumor\")\n",
    "\n",
    "# Initialize the count for each class of images\n",
    "count_glioma = 0\n",
    "count_meningioma = 0\n",
    "count_no = 0\n",
    "count_pituitary = 0\n",
    "\n",
    "# List the directories in the root directory\n",
    "Dirs = [\"Training\", \"Testing\"]\n",
    "# Walk through the directories in the root directory\n",
    "for Dir in Dirs:\n",
    "    # Walk through the directory\n",
    "    for root, dirs, files in os.walk(Dir):\n",
    "        print(root)\n",
    "        for dir in dirs:\n",
    "            # Move the all the files in the directory to the same directory in the root with incrementing names\n",
    "            for i, file in enumerate(os.listdir(os.path.join(root, dir))):\n",
    "                if dir == \"glioma_tumor\":\n",
    "                    os.rename(os.path.join(root, dir, file), os.path.join(dir, f\"{dir}_{count_glioma}.jpg\"))\n",
    "                    count_glioma += 1\n",
    "                elif dir == \"meningioma_tumor\":\n",
    "                    os.rename(os.path.join(root, dir, file), os.path.join(dir, f\"{dir}_{count_meningioma}.jpg\"))\n",
    "                    count_meningioma += 1\n",
    "                elif dir == \"no_tumor\":\n",
    "                    os.rename(os.path.join(root, dir, file), os.path.join(dir, f\"{dir}_{count_no}.jpg\"))\n",
    "                    count_no += 1\n",
    "                elif dir == \"pituitary_tumor\":\n",
    "                    os.rename(os.path.join(root, dir, file), os.path.join(dir, f\"{dir}_{count_pituitary}.jpg\"))\n",
    "                    count_pituitary += 1"
   ]
  }
 ],
 "metadata": {
  "kernelspec": {
   "display_name": "Python 3",
   "language": "python",
   "name": "python3"
  },
  "language_info": {
   "codemirror_mode": {
    "name": "ipython",
    "version": 3
   },
   "file_extension": ".py",
   "mimetype": "text/x-python",
   "name": "python",
   "nbconvert_exporter": "python",
   "pygments_lexer": "ipython3",
   "version": "3.11.6"
  }
 },
 "nbformat": 4,
 "nbformat_minor": 2
}
